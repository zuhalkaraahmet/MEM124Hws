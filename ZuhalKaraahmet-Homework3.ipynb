{
 "cells": [
  {
   "cell_type": "code",
   "execution_count": null,
   "metadata": {},
   "outputs": [],
   "source": [
    "number=float(input(\"Lütfen bir numara giriniz:\"))\n",
    "if number == 1 :\n",
    "    print(\"Üçgenin hipotenüsü hesaplanacak.\")\n",
    "    a= int(input(\"Üçgenin bir kenarının ölçüsünü giriniz:\"))\n",
    "    print(a)\n",
    "    b= int(input(\"Üçgenin diğer kenarının ölçüsünü giriniz:\"))\n",
    "    print(b)\n",
    "    c= ((a**2)+(b**2))**(1/2)\n",
    "    print(c)\n",
    "elif number == 2 :\n",
    "    a=1\n",
    "    i= int(input(\"Lütfen bir sayı giriniz:\"))\n",
    "    while a <= i:\n",
    "        print(a)\n",
    "        if a == i:\n",
    "            break\n",
    "        a=a+1\n",
    "elif number == 3 :\n",
    "    print(\"Gireceğiniz 6 adet sayının aritmetik ortalaması alınacaktır.Lütfen 6 adet sayı giriniz.\")\n",
    "    a= int(input(\"Lütfen bir sayı giriniz:\"))\n",
    "    print(a)\n",
    "    b= int(input(\"Lütfen bir sayı giriniz:\"))\n",
    "    print(b)\n",
    "    c= int(input(\"Lütfen bir sayı giriniz:\"))\n",
    "    print(c)\n",
    "    d= int(input(\"Lütfen bir sayı giriniz:\"))\n",
    "    print(d)\n",
    "    e= int(input(\"Lütfen bir sayı giriniz:\"))\n",
    "    print(e)\n",
    "    f= int(input(\"Lütfen bir sayı giriniz:\"))\n",
    "    print(f)\n",
    "    x= int(input((a+b+c+d+e+f)/6))\n",
    "    print(x)\n",
    "else:\n",
    "    print(\"Lütfen programı tekrar başlatınız.\")"
   ]
  },
  {
   "cell_type": "code",
   "execution_count": null,
   "metadata": {},
   "outputs": [],
   "source": []
  },
  {
   "cell_type": "code",
   "execution_count": null,
   "metadata": {},
   "outputs": [],
   "source": []
  },
  {
   "cell_type": "code",
   "execution_count": null,
   "metadata": {},
   "outputs": [],
   "source": []
  }
 ],
 "metadata": {
  "kernelspec": {
   "display_name": "Python 3",
   "language": "python",
   "name": "python3"
  },
  "language_info": {
   "codemirror_mode": {
    "name": "ipython",
    "version": 3
   },
   "file_extension": ".py",
   "mimetype": "text/x-python",
   "name": "python",
   "nbconvert_exporter": "python",
   "pygments_lexer": "ipython3",
   "version": "3.6.7"
  }
 },
 "nbformat": 4,
 "nbformat_minor": 2
}
