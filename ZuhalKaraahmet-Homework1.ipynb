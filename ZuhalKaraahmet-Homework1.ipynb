{
 "cells": [
  {
   "cell_type": "code",
   "execution_count": null,
   "metadata": {},
   "outputs": [],
   "source": [
    "    a= input(\"a:\")\n",
    "    print(a)\n",
    "    b= input(\"b:\")\n",
    "    print(b)\n",
    "    c= input(\"c:\")\n",
    "    print(c)\n",
    "    x= input(\"x:\")\n",
    "    print(x)\n",
    "    print(\"Delta\", int(b)**2-4*int(a)*int(c))\n",
    "    \n",
    "    if (int(b)**2-4*int(a)*int(c)) == 0:\n",
    "        print(\"kokler cakısık, iki kok aynı= \", -int(b)/(2*int(a)))\n",
    "    \n",
    "    if (int(b)**2-4*int(a)*int(c)) < 0:\n",
    "        print(\"kok yok\")\n",
    "    \n",
    "    if (int(b)**2-4*int(a)*int(c)) > 0:\n",
    "        print(\"iki farklı kok var= \",\n",
    "              \"kok1=\",(-int(b)+(int(b)**2-4*int(a)*int(c))**(1/2))/(2*int(a)),\n",
    "              \"kok2=\",(-int(b)-(int(b)**2-4*int(a)*int(c))**(1/2))/(2*int(a)))"
   ]
  },
  {
   "cell_type": "code",
   "execution_count": null,
   "metadata": {},
   "outputs": [],
   "source": []
  }
 ],
 "metadata": {
  "kernelspec": {
   "display_name": "Python 3",
   "language": "python",
   "name": "python3"
  },
  "language_info": {
   "codemirror_mode": {
    "name": "ipython",
    "version": 3
   },
   "file_extension": ".py",
   "mimetype": "text/x-python",
   "name": "python",
   "nbconvert_exporter": "python",
   "pygments_lexer": "ipython3",
   "version": "3.6.7"
  }
 },
 "nbformat": 4,
 "nbformat_minor": 2
}
